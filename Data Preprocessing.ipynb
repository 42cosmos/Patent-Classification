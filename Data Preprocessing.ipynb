{
 "cells": [
  {
   "cell_type": "code",
   "execution_count": 1,
   "metadata": {},
   "outputs": [],
   "source": [
    "import pandas as pd\n",
    "df_claim_cpc_new_full = pd.read_csv('/home/ubuntu/deeppatentsimilarity/patentdata/df_claim_cpc_new_full_raw_p.csv')"
   ]
  },
  {
   "cell_type": "code",
   "execution_count": 2,
   "metadata": {},
   "outputs": [],
   "source": [
    "from sklearn.preprocessing import MultiLabelBinarizer\n",
    "\n",
    "#Filtering just general category\n",
    "# df_claim_cpc_new_full['group_id'] = df_claim_cpc_new_full.group_id.apply(lambda x:[a.split(',')[0] for a in x])\n",
    "df_claim_cpc_new_full['group_id'] = df_claim_cpc_new_full['group_id'].str.split(',')\n",
    "df_claim_cpc_new_full['group_id'] = df_claim_cpc_new_full['group_id'].apply(lambda x:pd.Series(x).unique())\n",
    "\n",
    "# Tranforming output variable to one-hot encoded output features\n",
    "mlb = MultiLabelBinarizer(sparse_output=True)\n",
    "\n",
    "# Construing final dataframe\n",
    "df = df_claim_cpc_new_full.join(\n",
    "            pd.DataFrame.sparse.from_spmatrix(\n",
    "                mlb.fit_transform(df_claim_cpc_new_full.pop('group_id')),\n",
    "                index=df_claim_cpc_new_full.index,\n",
    "                columns=mlb.classes_))\n",
    "# df = df.drop(\"group_id\",axis=1)"
   ]
  },
  {
   "cell_type": "code",
   "execution_count": 3,
   "metadata": {},
   "outputs": [
    {
     "data": {
      "text/plain": [
       "Index(['A01B', 'A01C', 'A01D', 'A01F', 'A01G', 'A01H', 'A01J', 'A01K', 'A01L',\n",
       "       'A01M',\n",
       "       ...\n",
       "       'Y02B', 'Y02C', 'Y02D', 'Y02E', 'Y02P', 'Y02T', 'Y02W', 'Y04S', 'Y10S',\n",
       "       'Y10T'],\n",
       "      dtype='object', length=660)"
      ]
     },
     "execution_count": 3,
     "metadata": {},
     "output_type": "execute_result"
    }
   ],
   "source": [
    "df.columns[7:]"
   ]
  },
  {
   "cell_type": "code",
   "execution_count": 4,
   "metadata": {},
   "outputs": [
    {
     "data": {
      "text/plain": [
       "(247027, 667)"
      ]
     },
     "execution_count": 4,
     "metadata": {},
     "output_type": "execute_result"
    }
   ],
   "source": [
    "df_raw = df\n",
    "df.shape"
   ]
  },
  {
   "cell_type": "code",
   "execution_count": 5,
   "metadata": {},
   "outputs": [],
   "source": [
    "categories_cols = df.columns[7:]\n",
    "labels = df[categories_cols]\n",
    "#Removing labels which occur only once.\n",
    "# labels_to_remove_1 = labels_1[labels_1.columns[labels_1.sum(axis=0) <30]].columns\n",
    "\n",
    "labels_to_remove = labels[labels.columns[labels.sum(axis=0) <1000]].columns"
   ]
  },
  {
   "cell_type": "code",
   "execution_count": 6,
   "metadata": {},
   "outputs": [
    {
     "data": {
      "text/plain": [
       "Index(['A01B', 'A01C', 'A01D', 'A01F', 'A01G', 'A01J', 'A01L', 'A01M', 'A21B',\n",
       "       'A21C',\n",
       "       ...\n",
       "       'H04Q', 'H04S', 'H04T', 'H05C', 'H05F', 'H05G', 'H05H', 'Y02C', 'Y02W',\n",
       "       'Y04S'],\n",
       "      dtype='object', length=527)"
      ]
     },
     "execution_count": 6,
     "metadata": {},
     "output_type": "execute_result"
    }
   ],
   "source": [
    "labels_to_remove"
   ]
  },
  {
   "cell_type": "code",
   "execution_count": 7,
   "metadata": {},
   "outputs": [],
   "source": [
    "df['text'] = df['text'].str[3:]"
   ]
  },
  {
   "cell_type": "code",
   "execution_count": 8,
   "metadata": {},
   "outputs": [],
   "source": [
    "for item in labels_to_remove:\n",
    "    df = df[df[item] != 1]"
   ]
  },
  {
   "cell_type": "code",
   "execution_count": 9,
   "metadata": {},
   "outputs": [
    {
     "name": "stdout",
     "output_type": "stream",
     "text": [
      "(247027, 7)\n"
     ]
    },
    {
     "data": {
      "text/plain": [
       "(163269, 667)"
      ]
     },
     "execution_count": 9,
     "metadata": {},
     "output_type": "execute_result"
    }
   ],
   "source": [
    "print(df_claim_cpc_new_full.shape)\n",
    "df.shape"
   ]
  },
  {
   "cell_type": "code",
   "execution_count": 10,
   "metadata": {},
   "outputs": [
    {
     "data": {
      "text/plain": [
       "Index(['Unnamed: 0', 'Unnamed: 0.1', 'patent_id', 'section_id',\n",
       "       'subsection_id', 'subgroup_id', 'text'],\n",
       "      dtype='object')"
      ]
     },
     "execution_count": 10,
     "metadata": {},
     "output_type": "execute_result"
    }
   ],
   "source": [
    "df_claim_cpc_new_full.columns"
   ]
  },
  {
   "cell_type": "code",
   "execution_count": 11,
   "metadata": {},
   "outputs": [
    {
     "data": {
      "text/plain": [
       "(163269, 140)"
      ]
     },
     "execution_count": 11,
     "metadata": {},
     "output_type": "execute_result"
    }
   ],
   "source": [
    "df_pre_new = df.drop(labels_to_remove,axis=1)\n",
    "df_pre_new.shape"
   ]
  },
  {
   "cell_type": "code",
   "execution_count": 12,
   "metadata": {},
   "outputs": [],
   "source": [
    "from sklearn.model_selection import train_test_split\n",
    "# split into train test sets\n",
    "df_claim_train, df_claim_test = train_test_split(df_pre_new, test_size=0.08)"
   ]
  },
  {
   "cell_type": "code",
   "execution_count": 13,
   "metadata": {},
   "outputs": [
    {
     "data": {
      "text/plain": [
       "(13062, 140)"
      ]
     },
     "execution_count": 13,
     "metadata": {},
     "output_type": "execute_result"
    }
   ],
   "source": [
    "df_claim_test.shape"
   ]
  },
  {
   "cell_type": "code",
   "execution_count": 14,
   "metadata": {},
   "outputs": [
    {
     "data": {
      "text/plain": [
       "(150207, 140)"
      ]
     },
     "execution_count": 14,
     "metadata": {},
     "output_type": "execute_result"
    }
   ],
   "source": [
    "df_claim_train.shape"
   ]
  },
  {
   "cell_type": "code",
   "execution_count": 15,
   "metadata": {},
   "outputs": [],
   "source": [
    "categories_cols = df_claim_train.columns[7:]\n",
    "labels = df_claim_train[categories_cols]\n",
    "#Removing labels which occur only once.\n",
    "# labels_to_remove_1 = labels_1[labels_1.columns[labels_1.sum(axis=0) <30]].columns\n",
    "\n",
    "labels_to_remove_train = labels[labels.columns[labels.sum(axis=0) <2000]].columns"
   ]
  },
  {
   "cell_type": "code",
   "execution_count": 16,
   "metadata": {},
   "outputs": [
    {
     "data": {
      "text/plain": [
       "Index(['A01H', 'A01K', 'A01N', 'A23L', 'A47C', 'A47L', 'A61L', 'A61N', 'A61Q',\n",
       "       'A63B',\n",
       "       ...\n",
       "       'H03K', 'H03M', 'H04J', 'H04R', 'H05B', 'Y02A', 'Y02B', 'Y02E', 'Y02P',\n",
       "       'Y10S'],\n",
       "      dtype='object', length=102)"
      ]
     },
     "execution_count": 16,
     "metadata": {},
     "output_type": "execute_result"
    }
   ],
   "source": [
    "labels_to_remove_train"
   ]
  },
  {
   "cell_type": "code",
   "execution_count": 17,
   "metadata": {},
   "outputs": [],
   "source": [
    "for item in labels_to_remove_train:\n",
    "    df_claim_test = df_claim_test[df_claim_test[item] != 1]"
   ]
  },
  {
   "cell_type": "code",
   "execution_count": 18,
   "metadata": {},
   "outputs": [
    {
     "data": {
      "text/plain": [
       "(7365, 140)"
      ]
     },
     "execution_count": 18,
     "metadata": {},
     "output_type": "execute_result"
    }
   ],
   "source": [
    "df_claim_test.shape"
   ]
  },
  {
   "cell_type": "code",
   "execution_count": 19,
   "metadata": {},
   "outputs": [
    {
     "data": {
      "text/plain": [
       "Index(['Unnamed: 0', 'Unnamed: 0.1', 'patent_id', 'section_id',\n",
       "       'subsection_id', 'subgroup_id', 'text', 'A01H', 'A01K', 'A01N',\n",
       "       ...\n",
       "       'H05B', 'H05K', 'Y02A', 'Y02B', 'Y02D', 'Y02E', 'Y02P', 'Y02T', 'Y10S',\n",
       "       'Y10T'],\n",
       "      dtype='object', length=140)"
      ]
     },
     "execution_count": 19,
     "metadata": {},
     "output_type": "execute_result"
    }
   ],
   "source": [
    "df_claim_test.columns"
   ]
  },
  {
   "cell_type": "code",
   "execution_count": 20,
   "metadata": {},
   "outputs": [],
   "source": [
    "df_claim_test = df_claim_test.drop(columns=['Unnamed: 0', 'Unnamed: 0.1'], axis=1)\n",
    "df_claim_train = df_claim_train.drop(columns=['Unnamed: 0', 'Unnamed: 0.1'], axis=1)"
   ]
  },
  {
   "cell_type": "code",
   "execution_count": 21,
   "metadata": {},
   "outputs": [
    {
     "data": {
      "text/plain": [
       "(7365, 138)"
      ]
     },
     "execution_count": 21,
     "metadata": {},
     "output_type": "execute_result"
    }
   ],
   "source": [
    "df_claim_test.shape"
   ]
  },
  {
   "cell_type": "code",
   "execution_count": 22,
   "metadata": {},
   "outputs": [
    {
     "data": {
      "text/plain": [
       "(150207, 138)"
      ]
     },
     "execution_count": 22,
     "metadata": {},
     "output_type": "execute_result"
    }
   ],
   "source": [
    "df_claim_train.shape"
   ]
  },
  {
   "cell_type": "code",
   "execution_count": 23,
   "metadata": {},
   "outputs": [
    {
     "data": {
      "text/plain": [
       "Index(['A01H', 'A01K', 'A01N', 'A23L', 'A47C', 'A47L', 'A61B', 'A61F', 'A61K',\n",
       "       'A61L',\n",
       "       ...\n",
       "       'H05B', 'H05K', 'Y02A', 'Y02B', 'Y02D', 'Y02E', 'Y02P', 'Y02T', 'Y10S',\n",
       "       'Y10T'],\n",
       "      dtype='object', length=133)"
      ]
     },
     "execution_count": 23,
     "metadata": {},
     "output_type": "execute_result"
    }
   ],
   "source": [
    "df_claim_test.columns[5:]"
   ]
  },
  {
   "cell_type": "code",
   "execution_count": 24,
   "metadata": {},
   "outputs": [],
   "source": [
    "df_claim_train_l = df_claim_train.iloc[:, 5:]\n",
    "df_claim_test_l = df_claim_test.iloc[:, 5:]"
   ]
  },
  {
   "cell_type": "code",
   "execution_count": 25,
   "metadata": {},
   "outputs": [],
   "source": [
    "s = df_claim_train_l.sum()\n",
    "d = df_claim_test_l.sum()"
   ]
  },
  {
   "cell_type": "code",
   "execution_count": 26,
   "metadata": {},
   "outputs": [
    {
     "data": {
      "text/plain": [
       "<matplotlib.axes._subplots.AxesSubplot at 0x7f1c2428bd30>"
      ]
     },
     "execution_count": 26,
     "metadata": {},
     "output_type": "execute_result"
    },
    {
     "data": {
      "image/png": "[encoded data removed]",
      "text/plain": [
       "<Figure size 432x288 with 1 Axes>"
      ]
     },
     "metadata": {
      "needs_background": "light"
     },
     "output_type": "display_data"
    }
   ],
   "source": [
    "import pandas as pd\n",
    "import matplotlib.pyplot as plt\n",
    "import seaborn as sns\n",
    "\n",
    "s.plot()\n",
    "d.plot()"
   ]
  },
  {
   "cell_type": "code",
   "execution_count": null,
   "metadata": {},
   "outputs": [],
   "source": []
  }
 ],
 "metadata": {
  "kernelspec": {
   "display_name": "Python 3",
   "language": "python",
   "name": "python3"
  },
  "language_info": {
   "codemirror_mode": {
    "name": "ipython",
    "version": 3
   },
   "file_extension": ".py",
   "mimetype": "text/x-python",
   "name": "python",
   "nbconvert_exporter": "python",
   "pygments_lexer": "ipython3",
   "version": "3.8.3"
  }
 },
 "nbformat": 4,
 "nbformat_minor": 4
}
