{
 "cells": [
  {
   "cell_type": "code",
   "execution_count": 1,
   "metadata": {},
   "outputs": [],
   "source": [
    "import scipy.spatial\n",
    "import numpy as np\n",
    "import os, json\n",
    "import glob\n",
    "import re\n",
    "import torch\n",
    "import pandas as pd"
   ]
  },
  {
   "cell_type": "code",
   "execution_count": 2,
   "metadata": {},
   "outputs": [
    {
     "name": "stdout",
     "output_type": "stream",
     "text": [
      "Requirement already satisfied: sentence_transformers in /home/ubuntu/anaconda3/lib/python3.8/site-packages (0.4.1.2)\n",
      "Requirement already satisfied: tqdm in /home/ubuntu/anaconda3/lib/python3.8/site-packages (from sentence_transformers) (4.47.0)\n",
      "Requirement already satisfied: numpy in /home/ubuntu/anaconda3/lib/python3.8/site-packages (from sentence_transformers) (1.18.5)\n",
      "Requirement already satisfied: transformers<5.0.0,>=3.1.0 in /home/ubuntu/anaconda3/lib/python3.8/site-packages (from sentence_transformers) (3.5.1)\n",
      "Requirement already satisfied: sentencepiece in /home/ubuntu/anaconda3/lib/python3.8/site-packages (from sentence_transformers) (0.1.91)\n",
      "Requirement already satisfied: torch>=1.6.0 in /home/ubuntu/anaconda3/lib/python3.8/site-packages (from sentence_transformers) (1.7.0)\n",
      "Requirement already satisfied: scipy in /home/ubuntu/anaconda3/lib/python3.8/site-packages (from sentence_transformers) (1.5.0)\n",
      "Requirement already satisfied: nltk in /home/ubuntu/anaconda3/lib/python3.8/site-packages (from sentence_transformers) (3.5)\n",
      "Requirement already satisfied: scikit-learn in /home/ubuntu/anaconda3/lib/python3.8/site-packages (from sentence_transformers) (0.23.1)\n",
      "Requirement already satisfied: sacremoses in /home/ubuntu/anaconda3/lib/python3.8/site-packages (from transformers<5.0.0,>=3.1.0->sentence_transformers) (0.0.43)\n",
      "Requirement already satisfied: filelock in /home/ubuntu/anaconda3/lib/python3.8/site-packages (from transformers<5.0.0,>=3.1.0->sentence_transformers) (3.0.12)\n",
      "Requirement already satisfied: packaging in /home/ubuntu/anaconda3/lib/python3.8/site-packages (from transformers<5.0.0,>=3.1.0->sentence_transformers) (20.4)\n",
      "Requirement already satisfied: requests in /home/ubuntu/anaconda3/lib/python3.8/site-packages (from transformers<5.0.0,>=3.1.0->sentence_transformers) (2.24.0)\n",
      "Requirement already satisfied: protobuf in /home/ubuntu/anaconda3/lib/python3.8/site-packages (from transformers<5.0.0,>=3.1.0->sentence_transformers) (3.13.0)\n",
      "Requirement already satisfied: regex!=2019.12.17 in /home/ubuntu/anaconda3/lib/python3.8/site-packages (from transformers<5.0.0,>=3.1.0->sentence_transformers) (2020.6.8)\n",
      "Requirement already satisfied: tokenizers==0.9.3 in /home/ubuntu/anaconda3/lib/python3.8/site-packages (from transformers<5.0.0,>=3.1.0->sentence_transformers) (0.9.3)\n",
      "Requirement already satisfied: future in /home/ubuntu/anaconda3/lib/python3.8/site-packages (from torch>=1.6.0->sentence_transformers) (0.18.2)\n",
      "Requirement already satisfied: dataclasses in /home/ubuntu/anaconda3/lib/python3.8/site-packages (from torch>=1.6.0->sentence_transformers) (0.6)\n",
      "Requirement already satisfied: typing-extensions in /home/ubuntu/anaconda3/lib/python3.8/site-packages (from torch>=1.6.0->sentence_transformers) (3.7.4.2)\n",
      "Requirement already satisfied: joblib in /home/ubuntu/anaconda3/lib/python3.8/site-packages (from nltk->sentence_transformers) (0.16.0)\n",
      "Requirement already satisfied: click in /home/ubuntu/anaconda3/lib/python3.8/site-packages (from nltk->sentence_transformers) (7.1.2)\n",
      "Requirement already satisfied: threadpoolctl>=2.0.0 in /home/ubuntu/anaconda3/lib/python3.8/site-packages (from scikit-learn->sentence_transformers) (2.1.0)\n",
      "Requirement already satisfied: six in /home/ubuntu/anaconda3/lib/python3.8/site-packages (from sacremoses->transformers<5.0.0,>=3.1.0->sentence_transformers) (1.15.0)\n",
      "Requirement already satisfied: pyparsing>=2.0.2 in /home/ubuntu/anaconda3/lib/python3.8/site-packages (from packaging->transformers<5.0.0,>=3.1.0->sentence_transformers) (2.4.7)\n",
      "Requirement already satisfied: chardet<4,>=3.0.2 in /home/ubuntu/anaconda3/lib/python3.8/site-packages (from requests->transformers<5.0.0,>=3.1.0->sentence_transformers) (3.0.4)\n",
      "Requirement already satisfied: idna<3,>=2.5 in /home/ubuntu/anaconda3/lib/python3.8/site-packages (from requests->transformers<5.0.0,>=3.1.0->sentence_transformers) (2.10)\n",
      "Requirement already satisfied: urllib3!=1.25.0,!=1.25.1,<1.26,>=1.21.1 in /home/ubuntu/anaconda3/lib/python3.8/site-packages (from requests->transformers<5.0.0,>=3.1.0->sentence_transformers) (1.25.9)\n",
      "Requirement already satisfied: certifi>=2017.4.17 in /home/ubuntu/anaconda3/lib/python3.8/site-packages (from requests->transformers<5.0.0,>=3.1.0->sentence_transformers) (2020.6.20)\n",
      "Requirement already satisfied: setuptools in /home/ubuntu/anaconda3/lib/python3.8/site-packages (from protobuf->transformers<5.0.0,>=3.1.0->sentence_transformers) (49.2.0.post20200714)\n"
     ]
    },
    {
     "name": "stderr",
     "output_type": "stream",
     "text": [
      "/home/ubuntu/anaconda3/lib/python3.8/site-packages/torch/cuda/__init__.py:52: UserWarning: CUDA initialization: Found no NVIDIA driver on your system. Please check that you have an NVIDIA GPU and installed a driver from http://www.nvidia.com/Download/index.aspx (Triggered internally at  /pytorch/c10/cuda/CUDAFunctions.cpp:100.)\n",
      "  return torch._C._cuda_getDeviceCount() > 0\n"
     ]
    }
   ],
   "source": [
    "!pip install sentence_transformers\n",
    "from sentence_transformers import SentenceTransformer\n",
    "from tokenizers import Tokenizer"
   ]
  },
  {
   "cell_type": "code",
   "execution_count": 3,
   "metadata": {},
   "outputs": [],
   "source": [
    "# df_row = pd.read_csv('/home/ubuntu/deeppatentsimilarity/patentdata/df_claim_oneclaim_1000_198_200.csv', engine='python')\n",
    "# df_claim_cpc = pd.read_csv('/home/ubuntu/deeppatentsimilarity/patentdata/df_claim_cpc.csv', engine='python')\n",
    "df_claim_cpc_1000 = pd.read_csv('/home/ubuntu/deeppatentsimilarity/patentdata/df_claim_cpc_all_1000.csv', encoding='ISO-8859-1')"
   ]
  },
  {
   "cell_type": "code",
   "execution_count": 4,
   "metadata": {},
   "outputs": [],
   "source": [
    "df = df_claim_cpc_1000"
   ]
  },
  {
   "cell_type": "code",
   "execution_count": 5,
   "metadata": {},
   "outputs": [],
   "source": [
    "df = df.rename(columns={\"text_x\": \"text\", \"section_id_y\": \"section_id\", \"subsection_id_y\": \"subsection_id\",\"group_id_y\": \"group_id\", \"subgroup_id_y\": \"subgroup_id\"})"
   ]
  },
  {
   "cell_type": "code",
   "execution_count": 6,
   "metadata": {},
   "outputs": [
    {
     "data": {
      "text/html": [
       "<div>\n",
       "<style scoped>\n",
       "    .dataframe tbody tr th:only-of-type {\n",
       "        vertical-align: middle;\n",
       "    }\n",
       "\n",
       "    .dataframe tbody tr th {\n",
       "        vertical-align: top;\n",
       "    }\n",
       "\n",
       "    .dataframe thead th {\n",
       "        text-align: right;\n",
       "    }\n",
       "</style>\n",
       "<table border=\"1\" class=\"dataframe\">\n",
       "  <thead>\n",
       "    <tr style=\"text-align: right;\">\n",
       "      <th></th>\n",
       "      <th>patent_id</th>\n",
       "      <th>text</th>\n",
       "      <th>section_id</th>\n",
       "      <th>subsection_id</th>\n",
       "      <th>group_id</th>\n",
       "      <th>subgroup_id</th>\n",
       "    </tr>\n",
       "  </thead>\n",
       "  <tbody>\n",
       "    <tr>\n",
       "      <th>0</th>\n",
       "      <td>10606736</td>\n",
       "      <td>A computer-implemented method for creation of ...</td>\n",
       "      <td>G</td>\n",
       "      <td>G06</td>\n",
       "      <td>G06F</td>\n",
       "      <td>G06F11/3612</td>\n",
       "    </tr>\n",
       "    <tr>\n",
       "      <th>1</th>\n",
       "      <td>10606738</td>\n",
       "      <td>A method, comprising: receiving results from a...</td>\n",
       "      <td>H</td>\n",
       "      <td>H04</td>\n",
       "      <td>H04L</td>\n",
       "      <td>H04L2209/56</td>\n",
       "    </tr>\n",
       "    <tr>\n",
       "      <th>2</th>\n",
       "      <td>10606739</td>\n",
       "      <td>A device, comprising: a memory; and one or mor...</td>\n",
       "      <td>G</td>\n",
       "      <td>G06</td>\n",
       "      <td>G06F</td>\n",
       "      <td>G06F11/3684</td>\n",
       "    </tr>\n",
       "    <tr>\n",
       "      <th>3</th>\n",
       "      <td>10606740</td>\n",
       "      <td>A system comprising: a processor comprising a ...</td>\n",
       "      <td>G,G,G</td>\n",
       "      <td>G06,G06,G06</td>\n",
       "      <td>G06F,G06F,G06F</td>\n",
       "      <td>G06F12/0207,G06F2212/455,G06F9/4881</td>\n",
       "    </tr>\n",
       "    <tr>\n",
       "      <th>4</th>\n",
       "      <td>10606741</td>\n",
       "      <td>A process performed by a computing device for ...</td>\n",
       "      <td>G</td>\n",
       "      <td>G06</td>\n",
       "      <td>G06F</td>\n",
       "      <td>G06F3/0673</td>\n",
       "    </tr>\n",
       "  </tbody>\n",
       "</table>\n",
       "</div>"
      ],
      "text/plain": [
       "  patent_id                                               text section_id  \\\n",
       "0  10606736  A computer-implemented method for creation of ...          G   \n",
       "1  10606738  A method, comprising: receiving results from a...          H   \n",
       "2  10606739  A device, comprising: a memory; and one or mor...          G   \n",
       "3  10606740  A system comprising: a processor comprising a ...      G,G,G   \n",
       "4  10606741  A process performed by a computing device for ...          G   \n",
       "\n",
       "  subsection_id        group_id                          subgroup_id  \n",
       "0           G06            G06F                          G06F11/3612  \n",
       "1           H04            H04L                          H04L2209/56  \n",
       "2           G06            G06F                          G06F11/3684  \n",
       "3   G06,G06,G06  G06F,G06F,G06F  G06F12/0207,G06F2212/455,G06F9/4881  \n",
       "4           G06            G06F                           G06F3/0673  "
      ]
     },
     "execution_count": 6,
     "metadata": {},
     "output_type": "execute_result"
    }
   ],
   "source": [
    "df.head()"
   ]
  },
  {
   "cell_type": "code",
   "execution_count": 7,
   "metadata": {},
   "outputs": [
    {
     "data": {
      "text/plain": [
       "patent_id        1000\n",
       "text             1000\n",
       "section_id        998\n",
       "subsection_id     998\n",
       "group_id          998\n",
       "subgroup_id       998\n",
       "dtype: int64"
      ]
     },
     "execution_count": 7,
     "metadata": {},
     "output_type": "execute_result"
    }
   ],
   "source": [
    "total_patents = df.count()\n",
    "total_patents"
   ]
  },
  {
   "cell_type": "code",
   "execution_count": 8,
   "metadata": {},
   "outputs": [],
   "source": [
    "claims = list(df.text)\n",
    "patent_id = list(df.patent_id)"
   ]
  },
  {
   "cell_type": "code",
   "execution_count": 9,
   "metadata": {},
   "outputs": [],
   "source": [
    "# claims"
   ]
  },
  {
   "cell_type": "code",
   "execution_count": 10,
   "metadata": {},
   "outputs": [],
   "source": [
    "def get_top_n_similar_patents_df(new_claim, claims):\n",
    "    # embedder = SentenceTransformer('bert-base-nli-stsb-mean-tokens')\n",
    "    embedder = SentenceTransformer('stsb_augsbert_SS_roberta-base-2021-01-06_22-14-54')\n",
    "#     embedder = SentenceTransformer('roberta-base-nli-stsb-mean-tokens')\n",
    "    query_embeddings = embedder.encode([new_claim])\n",
    "\n",
    "#     query_embeddings = tokenizer([new_claim], padding=True, truncation=True, max_length=128, return_tensors='pt')\n",
    "\n",
    "    # list of patent claims\n",
    "    claim_embeddings = embedder.encode(claims)\n",
    "\n",
    "    # get top 100 patent claims based on cosine similarity\n",
    "    closest_n = 3\n",
    "    distances = scipy.spatial.distance.cdist(query_embeddings, claim_embeddings, \"cosine\")[0]\n",
    "\n",
    "    results = zip(range(len(distances)), distances)\n",
    "    results = sorted(results, key=lambda x: x[1])\n",
    "\n",
    "    # save similar patents info\n",
    "    top_claim_ids = []\n",
    "    top_claims = []\n",
    "    top_similarity_scores = []\n",
    "\n",
    "\n",
    "    print('New_claim: ' + new_claim + '\\n')\n",
    "\n",
    "    # Find the closest 100 patent claims for each query new_claim based on cosine similarity\n",
    "    for idx, distance in results[0:closest_n]:\n",
    "        top_claim_ids.append(patent_id[idx])\n",
    "        top_claims.append(claims[idx])\n",
    "        top_similarity_scores.append(round((1-distance), 4))\n",
    "        print('Patent ID: ' + str(patent_id[idx]))\n",
    "        print('PubMed Claim: ' + claims[idx])\n",
    "        print('Similarity Score: ' + \"%.4f\" % (1-distance))\n",
    "        print('\\n')\n",
    "        \n",
    "    top_100_similar_patents_df = pd.DataFrame({\n",
    "        'top_claim_ids': top_claim_ids,\n",
    "        'cosine_similarity': top_similarity_scores,\n",
    "        'claims': top_claims,\n",
    "    })\n",
    "    \n",
    "    return top_100_similar_patents_df"
   ]
  },
  {
   "cell_type": "code",
   "execution_count": 11,
   "metadata": {},
   "outputs": [],
   "source": [
    "new_claim = ['The computer-implemented method of claim 4 wherein the filtering criteria comprises a number of page groups in the page group list is greater than 1, and the representative rank is less than or equal to the exit-entry max paths. The computer-implemented method of claim 2 wherein the selecting of the top n unconverted session paths further comprises only selecting unconverted sessions that meet a filtering criteria. The computer-implemented method of claim 1 further comprising creating a master table that lists the set of load test scenarios and the think times that represents a distribution of paths taken by real users during the peak hour.']"
   ]
  },
  {
   "cell_type": "code",
   "execution_count": 12,
   "metadata": {},
   "outputs": [],
   "source": [
    "# !pip install tokenizer\n",
    "# from tokenizer import tokenize"
   ]
  },
  {
   "cell_type": "code",
   "execution_count": 13,
   "metadata": {},
   "outputs": [
    {
     "data": {
      "text/plain": [
       "['The computer-implemented method of claim 4 wherein the filtering criteria comprises a number of page groups in the page group list is greater than 1, and the representative rank is less than or equal to the exit-entry max paths. The computer-implemented method of claim 2 wherein the selecting of the top n unconverted session paths further comprises only selecting unconverted sessions that meet a filtering criteria. The computer-implemented method of claim 1 further comprising creating a master table that lists the set of load test scenarios and the think times that represents a distribution of paths taken by real users during the peak hour.']"
      ]
     },
     "execution_count": 13,
     "metadata": {},
     "output_type": "execute_result"
    }
   ],
   "source": [
    "new_claim"
   ]
  },
  {
   "cell_type": "code",
   "execution_count": 14,
   "metadata": {},
   "outputs": [
    {
     "name": "stdout",
     "output_type": "stream",
     "text": [
      "New_claim: The computer-implemented method of claim 4 wherein the filtering criteria comprises a number of page groups in the page group list is greater than 1, and the representative rank is less than or equal to the exit-entry max paths. The computer-implemented method of claim 2 wherein the selecting of the top n unconverted session paths further comprises only selecting unconverted sessions that meet a filtering criteria. The computer-implemented method of claim 1 further comprising creating a master table that lists the set of load test scenarios and the think times that represents a distribution of paths taken by real users during the peak hour.\n",
      "\n",
      "Patent ID: 10606970\n",
      "PubMed Claim: A computer-implemented method for statistical static timing analysis of an integrated circuit, the method comprising: specifying, by a user, a criteria for paths and tests for the integrated circuit; performing, by a processor, a statistical static timing analysis for each of the paths of the integrated circuit to create slack canonicals; projecting, by the processor, the slack canonicals for each of the paths of the integrated circuit to a worst value; applying a filter to the slack canonicals; determining, by the processor, worst timing corners based at least in part on applying the filter to the slack canonicals and based at least in part on the worst value; performing a selection based on the worst timing corners, wherein the selection is at least one of selecting a number of timing corners or selecting a margin; and delivering a timing setup to an optimization tool, the timing setup being based at least in part on the selection.\n",
      "Similarity Score: 0.7243\n",
      "\n",
      "\n",
      "Patent ID: 10606874\n",
      "PubMed Claim: A method implemented in a computer infrastructure comprising a combination of hardware and software, the method comprising: generating a ranked result set based on a search query; generating an adjusted ranked result set based on a skill rating of a search user; determining an efficiency of the search by click through selection data which includes a time it takes for the search user to click through the adjusted ranked result set before selecting a result document contained in the adjusted ranked result to generate a modified skill rating of the searcher in view of the amount of documents clicked on by the search user prior to achieving the result document, wherein the more documents clicked on by the search user the less of an increase in the skill rating of the search user; monitoring a review of the adjusted ranked result set by the search user, wherein the monitoring comprises monitoring time spent reviewing the adjusted ranked result set; and storing the modified skill rating of the searcher based on the determined efficiency.\n",
      "Similarity Score: 0.6766\n",
      "\n",
      "\n",
      "Patent ID: 10606858\n",
      "PubMed Claim: A method for presenting content based on a generic content rating, the method comprising: receiving, using a hardware processor, one or more search results corresponding to a search query; determining, using the hardware processor, country-specific content ratings associated with the one or more received search results; converting, using the hardware processor, the country-specific content ratings to generic content ratings associated with the one or more search results by transmitting a query to a server that includes an indicator of the country-specific content ratings and receiving, from the server, the generic content ratings; determining, using the hardware processor, that at least one search result is to be blocked based on the generic content ratings associated with the one or more search results and a user-selected generic content rating restriction; in response to determining that at least one search result is to be blocked, removing, using the hardware processor, the at least one search result from the one or more search results to create modified search results; and causing, using the hardware processor, the modified search results to be presented in response to the search query.\n",
      "Similarity Score: 0.6512\n",
      "\n",
      "\n"
     ]
    }
   ],
   "source": [
    "# search for similar patent claim\n",
    "\n",
    "if os.path.exists('top_100_similar_patents_df.csv'):\n",
    "    get_top_n_similar_patents_df = pd.read_csv('top_100_similar_patents_df.csv')\n",
    "\n",
    "else:\n",
    "    get_top_n_similar_patents_df = get_top_n_similar_patents_df(new_claim[0], claims)"
   ]
  },
  {
   "cell_type": "code",
   "execution_count": 15,
   "metadata": {},
   "outputs": [
    {
     "data": {
      "text/html": [
       "<div>\n",
       "<style scoped>\n",
       "    .dataframe tbody tr th:only-of-type {\n",
       "        vertical-align: middle;\n",
       "    }\n",
       "\n",
       "    .dataframe tbody tr th {\n",
       "        vertical-align: top;\n",
       "    }\n",
       "\n",
       "    .dataframe thead th {\n",
       "        text-align: right;\n",
       "    }\n",
       "</style>\n",
       "<table border=\"1\" class=\"dataframe\">\n",
       "  <thead>\n",
       "    <tr style=\"text-align: right;\">\n",
       "      <th></th>\n",
       "      <th>top_claim_ids</th>\n",
       "      <th>cosine_similarity</th>\n",
       "      <th>claims</th>\n",
       "    </tr>\n",
       "  </thead>\n",
       "  <tbody>\n",
       "    <tr>\n",
       "      <th>0</th>\n",
       "      <td>10606970</td>\n",
       "      <td>0.7243</td>\n",
       "      <td>A computer-implemented method for statistical ...</td>\n",
       "    </tr>\n",
       "    <tr>\n",
       "      <th>1</th>\n",
       "      <td>10606874</td>\n",
       "      <td>0.6766</td>\n",
       "      <td>A method implemented in a computer infrastruct...</td>\n",
       "    </tr>\n",
       "    <tr>\n",
       "      <th>2</th>\n",
       "      <td>10606858</td>\n",
       "      <td>0.6512</td>\n",
       "      <td>A method for presenting content based on a gen...</td>\n",
       "    </tr>\n",
       "  </tbody>\n",
       "</table>\n",
       "</div>"
      ],
      "text/plain": [
       "  top_claim_ids  cosine_similarity  \\\n",
       "0      10606970             0.7243   \n",
       "1      10606874             0.6766   \n",
       "2      10606858             0.6512   \n",
       "\n",
       "                                              claims  \n",
       "0  A computer-implemented method for statistical ...  \n",
       "1  A method implemented in a computer infrastruct...  \n",
       "2  A method for presenting content based on a gen...  "
      ]
     },
     "execution_count": 15,
     "metadata": {},
     "output_type": "execute_result"
    }
   ],
   "source": [
    "get_top_n_similar_patents_df.head()"
   ]
  },
  {
   "cell_type": "code",
   "execution_count": 16,
   "metadata": {},
   "outputs": [],
   "source": [
    "result = pd.concat([get_top_n_similar_patents_df, df], axis=1, join='inner')"
   ]
  },
  {
   "cell_type": "code",
   "execution_count": 17,
   "metadata": {},
   "outputs": [],
   "source": [
    "# result.loc[result['top_claim_ids'], result[\"section_id\"]] = set(result[\"section_id\"])\n",
    "# result.loc[result['section_id'].apply(lambda x: set(result.section_id.iloc[:1]))] "
   ]
  },
  {
   "cell_type": "code",
   "execution_count": 17,
   "metadata": {},
   "outputs": [],
   "source": [
    "result.to_csv(r'/home/ubuntu/deeppatentsimilarity/patentdata/df_claim_cpc_all_result.csv', index = False)"
   ]
  },
  {
   "cell_type": "code",
   "execution_count": 3,
   "metadata": {},
   "outputs": [],
   "source": [
    "# result.section_id.iloc[:1]\n",
    "df_claim_cpc_result = pd.read_csv('/home/ubuntu/deeppatentsimilarity/patentdata/df_claim_cpc_all_result.csv', encoding='ISO-8859-1')"
   ]
  },
  {
   "cell_type": "code",
   "execution_count": 20,
   "metadata": {},
   "outputs": [
    {
     "data": {
      "text/html": [
       "<div>\n",
       "<style scoped>\n",
       "    .dataframe tbody tr th:only-of-type {\n",
       "        vertical-align: middle;\n",
       "    }\n",
       "\n",
       "    .dataframe tbody tr th {\n",
       "        vertical-align: top;\n",
       "    }\n",
       "\n",
       "    .dataframe thead th {\n",
       "        text-align: right;\n",
       "    }\n",
       "</style>\n",
       "<table border=\"1\" class=\"dataframe\">\n",
       "  <thead>\n",
       "    <tr style=\"text-align: right;\">\n",
       "      <th></th>\n",
       "      <th>top_claim_ids</th>\n",
       "      <th>cosine_similarity</th>\n",
       "      <th>claims</th>\n",
       "      <th>patent_id</th>\n",
       "      <th>text</th>\n",
       "      <th>section_id</th>\n",
       "      <th>subsection_id</th>\n",
       "      <th>group_id</th>\n",
       "      <th>subgroup_id</th>\n",
       "    </tr>\n",
       "  </thead>\n",
       "  <tbody>\n",
       "    <tr>\n",
       "      <th>0</th>\n",
       "      <td>10606970</td>\n",
       "      <td>0.7243</td>\n",
       "      <td>A computer-implemented method for statistical ...</td>\n",
       "      <td>10606736</td>\n",
       "      <td>A computer-implemented method for creation of ...</td>\n",
       "      <td>G</td>\n",
       "      <td>G06</td>\n",
       "      <td>G06F</td>\n",
       "      <td>G06F11/3612</td>\n",
       "    </tr>\n",
       "    <tr>\n",
       "      <th>1</th>\n",
       "      <td>10606874</td>\n",
       "      <td>0.6766</td>\n",
       "      <td>A method implemented in a computer infrastruct...</td>\n",
       "      <td>10606738</td>\n",
       "      <td>A method, comprising: receiving results from a...</td>\n",
       "      <td>H</td>\n",
       "      <td>H04</td>\n",
       "      <td>H04L</td>\n",
       "      <td>H04L2209/56</td>\n",
       "    </tr>\n",
       "    <tr>\n",
       "      <th>2</th>\n",
       "      <td>10606858</td>\n",
       "      <td>0.6512</td>\n",
       "      <td>A method for presenting content based on a gen...</td>\n",
       "      <td>10606739</td>\n",
       "      <td>A device, comprising: a memory; and one or mor...</td>\n",
       "      <td>G</td>\n",
       "      <td>G06</td>\n",
       "      <td>G06F</td>\n",
       "      <td>G06F11/3684</td>\n",
       "    </tr>\n",
       "  </tbody>\n",
       "</table>\n",
       "</div>"
      ],
      "text/plain": [
       "  top_claim_ids  cosine_similarity  \\\n",
       "0      10606970             0.7243   \n",
       "1      10606874             0.6766   \n",
       "2      10606858             0.6512   \n",
       "\n",
       "                                              claims patent_id  \\\n",
       "0  A computer-implemented method for statistical ...  10606736   \n",
       "1  A method implemented in a computer infrastruct...  10606738   \n",
       "2  A method for presenting content based on a gen...  10606739   \n",
       "\n",
       "                                                text section_id subsection_id  \\\n",
       "0  A computer-implemented method for creation of ...          G           G06   \n",
       "1  A method, comprising: receiving results from a...          H           H04   \n",
       "2  A device, comprising: a memory; and one or mor...          G           G06   \n",
       "\n",
       "  group_id  subgroup_id  \n",
       "0     G06F  G06F11/3612  \n",
       "1     H04L  H04L2209/56  \n",
       "2     G06F  G06F11/3684  "
      ]
     },
     "execution_count": 20,
     "metadata": {},
     "output_type": "execute_result"
    }
   ],
   "source": [
    "# df_claim_cpc_result.head()\n",
    "df_claim_cpc_result = result\n",
    "df_claim_cpc_result.head()\n",
    "# result.head()"
   ]
  },
  {
   "cell_type": "code",
   "execution_count": 4,
   "metadata": {},
   "outputs": [],
   "source": [
    "# df_claim_cpc_result.at[3,'section_id'] = set(df_claim_cpc_result.at[3,'section_id'])"
   ]
  },
  {
   "cell_type": "code",
   "execution_count": 5,
   "metadata": {},
   "outputs": [],
   "source": [
    "# df_claim_cpc_result.at[3,'section_id']\n",
    "# df_claim_cpc_result.section_id = df_claim_cpc_result.section_id.duplicated()\n",
    "# df_claim_cpc_result['section_id'].str.split(', ').apply(set).str.join(', ')\n",
    "df_claim_cpc_result['section_id'] = df_claim_cpc_result['section_id'].str.replace('nan|[{}\\s]','').str.split(',').apply(set).str.join(',').str.strip(',').str.replace(\",{2,}\",\",\")\n",
    "df_claim_cpc_result['subsection_id'] = df_claim_cpc_result['subsection_id'].str.replace('nan|[{}\\s]','').str.split(',').apply(set).str.join(',').str.strip(',').str.replace(\",{2,}\",\",\")\n",
    "df_claim_cpc_result['group_id'] = df_claim_cpc_result['group_id'].str.replace('nan|[{}\\s]','').str.split(',').apply(set).str.join(',').str.strip(',').str.replace(\",{2,}\",\",\")\n",
    "df_claim_cpc_result['subgroup_id'] = df_claim_cpc_result['subgroup_id'].str.replace('nan|[{}\\s]','').str.split(',').apply(set).str.join(',').str.strip(',').str.replace(\",{2,}\",\",\")"
   ]
  },
  {
   "cell_type": "code",
   "execution_count": 25,
   "metadata": {},
   "outputs": [],
   "source": [
    "# result['section_id'] = set(result['section_id'])"
   ]
  },
  {
   "cell_type": "code",
   "execution_count": 40,
   "metadata": {},
   "outputs": [],
   "source": [
    "# print(result.count())"
   ]
  },
  {
   "cell_type": "code",
   "execution_count": 21,
   "metadata": {},
   "outputs": [],
   "source": [
    "k_similar_patents = df_claim_cpc_result.nlargest(10, ['cosine_similarity'])"
   ]
  },
  {
   "cell_type": "code",
   "execution_count": 22,
   "metadata": {},
   "outputs": [
    {
     "data": {
      "text/html": [
       "<div>\n",
       "<style scoped>\n",
       "    .dataframe tbody tr th:only-of-type {\n",
       "        vertical-align: middle;\n",
       "    }\n",
       "\n",
       "    .dataframe tbody tr th {\n",
       "        vertical-align: top;\n",
       "    }\n",
       "\n",
       "    .dataframe thead th {\n",
       "        text-align: right;\n",
       "    }\n",
       "</style>\n",
       "<table border=\"1\" class=\"dataframe\">\n",
       "  <thead>\n",
       "    <tr style=\"text-align: right;\">\n",
       "      <th></th>\n",
       "      <th>top_claim_ids</th>\n",
       "      <th>cosine_similarity</th>\n",
       "      <th>claims</th>\n",
       "      <th>patent_id</th>\n",
       "      <th>text</th>\n",
       "      <th>section_id</th>\n",
       "      <th>subsection_id</th>\n",
       "      <th>group_id</th>\n",
       "      <th>subgroup_id</th>\n",
       "    </tr>\n",
       "  </thead>\n",
       "  <tbody>\n",
       "    <tr>\n",
       "      <th>0</th>\n",
       "      <td>10606970</td>\n",
       "      <td>0.7243</td>\n",
       "      <td>A computer-implemented method for statistical ...</td>\n",
       "      <td>10606736</td>\n",
       "      <td>A computer-implemented method for creation of ...</td>\n",
       "      <td>G</td>\n",
       "      <td>G06</td>\n",
       "      <td>G06F</td>\n",
       "      <td>G06F11/3612</td>\n",
       "    </tr>\n",
       "    <tr>\n",
       "      <th>1</th>\n",
       "      <td>10606874</td>\n",
       "      <td>0.6766</td>\n",
       "      <td>A method implemented in a computer infrastruct...</td>\n",
       "      <td>10606738</td>\n",
       "      <td>A method, comprising: receiving results from a...</td>\n",
       "      <td>H</td>\n",
       "      <td>H04</td>\n",
       "      <td>H04L</td>\n",
       "      <td>H04L2209/56</td>\n",
       "    </tr>\n",
       "    <tr>\n",
       "      <th>2</th>\n",
       "      <td>10606858</td>\n",
       "      <td>0.6512</td>\n",
       "      <td>A method for presenting content based on a gen...</td>\n",
       "      <td>10606739</td>\n",
       "      <td>A device, comprising: a memory; and one or mor...</td>\n",
       "      <td>G</td>\n",
       "      <td>G06</td>\n",
       "      <td>G06F</td>\n",
       "      <td>G06F11/3684</td>\n",
       "    </tr>\n",
       "  </tbody>\n",
       "</table>\n",
       "</div>"
      ],
      "text/plain": [
       "  top_claim_ids  cosine_similarity  \\\n",
       "0      10606970             0.7243   \n",
       "1      10606874             0.6766   \n",
       "2      10606858             0.6512   \n",
       "\n",
       "                                              claims patent_id  \\\n",
       "0  A computer-implemented method for statistical ...  10606736   \n",
       "1  A method implemented in a computer infrastruct...  10606738   \n",
       "2  A method for presenting content based on a gen...  10606739   \n",
       "\n",
       "                                                text section_id subsection_id  \\\n",
       "0  A computer-implemented method for creation of ...          G           G06   \n",
       "1  A method, comprising: receiving results from a...          H           H04   \n",
       "2  A device, comprising: a memory; and one or mor...          G           G06   \n",
       "\n",
       "  group_id  subgroup_id  \n",
       "0     G06F  G06F11/3612  \n",
       "1     H04L  H04L2209/56  \n",
       "2     G06F  G06F11/3684  "
      ]
     },
     "execution_count": 22,
     "metadata": {},
     "output_type": "execute_result"
    }
   ],
   "source": [
    "k_similar_patents"
   ]
  },
  {
   "cell_type": "code",
   "execution_count": 23,
   "metadata": {},
   "outputs": [
    {
     "name": "stdout",
     "output_type": "stream",
     "text": [
      "Prediction for section_id of New Patent is:  G\n",
      "Prediction for section_id of New Patent is:  0    G\n",
      "1    H\n",
      "2    G\n",
      "Name: section_id, dtype: object\n",
      "Prediction for subsection_id of New Patent is:  0    G06\n",
      "1    H04\n",
      "2    G06\n",
      "Name: subsection_id, dtype: object\n",
      "Prediction for group_id of New Patent is:  0    G06F\n",
      "1    H04L\n",
      "2    G06F\n",
      "Name: group_id, dtype: object\n",
      "Prediction for subgroup_id of New Patent is:  0    G06F11/3612\n",
      "1    H04L2209/56\n",
      "2    G06F11/3684\n",
      "Name: subgroup_id, dtype: object\n"
     ]
    }
   ],
   "source": [
    "final_result_mod = k_similar_patents.mode()\n",
    "# final_result_max = k_similar_patents.max()\n",
    "print('Prediction for section_id of New Patent is: ', final_result_mod.iloc[0]['section_id'])\n",
    "print('Prediction for section_id of New Patent is: ', k_similar_patents.iloc[0:10]['section_id'])\n",
    "print('Prediction for subsection_id of New Patent is: ', k_similar_patents.iloc[0:10]['subsection_id'])\n",
    "print('Prediction for group_id of New Patent is: ', k_similar_patents.iloc[0:10]['group_id'])\n",
    "print('Prediction for subgroup_id of New Patent is: ', k_similar_patents.iloc[0:10]['subgroup_id'])"
   ]
  },
  {
   "cell_type": "code",
   "execution_count": null,
   "metadata": {},
   "outputs": [],
   "source": []
  }
 ],
 "metadata": {
  "kernelspec": {
   "display_name": "Python 3",
   "language": "python",
   "name": "python3"
  },
  "language_info": {
   "codemirror_mode": {
    "name": "ipython",
    "version": 3
   },
   "file_extension": ".py",
   "mimetype": "text/x-python",
   "name": "python",
   "nbconvert_exporter": "python",
   "pygments_lexer": "ipython3",
   "version": "3.8.3"
  }
 },
 "nbformat": 4,
 "nbformat_minor": 4
}
